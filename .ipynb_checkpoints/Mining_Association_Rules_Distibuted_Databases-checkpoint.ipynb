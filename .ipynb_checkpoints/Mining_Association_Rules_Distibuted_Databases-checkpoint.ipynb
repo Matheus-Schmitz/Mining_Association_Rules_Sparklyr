{
 "cells": [
  {
   "cell_type": "markdown",
   "id": "posted-chicken",
   "metadata": {},
   "source": [
    "## Envrionment Setup"
   ]
  },
  {
   "cell_type": "code",
   "execution_count": 2,
   "id": "known-sellers",
   "metadata": {},
   "outputs": [
    {
     "name": "stderr",
     "output_type": "stream",
     "text": [
      "Warning message:\n",
      "\"package 'tidyverse' was built under R version 3.6.3\"-- Attaching packages --------------------------------------- tidyverse 1.3.0 --\n",
      "v ggplot2 3.3.3     v purrr   0.3.4\n",
      "v tibble  3.0.5     v dplyr   1.0.3\n",
      "v tidyr   1.1.2     v stringr 1.4.0\n",
      "v readr   1.3.1     v forcats 0.4.0\n",
      "Warning message:\n",
      "\"package 'ggplot2' was built under R version 3.6.3\"Warning message:\n",
      "\"package 'tibble' was built under R version 3.6.3\"Warning message:\n",
      "\"package 'tidyr' was built under R version 3.6.3\"Warning message:\n",
      "\"package 'purrr' was built under R version 3.6.3\"Warning message:\n",
      "\"package 'dplyr' was built under R version 3.6.3\"-- Conflicts ------------------------------------------ tidyverse_conflicts() --\n",
      "x dplyr::filter() masks stats::filter()\n",
      "x dplyr::lag()    masks stats::lag()\n",
      "Warning message:\n",
      "\"package 'visNetwork' was built under R version 3.6.3\"Warning message:\n",
      "\"package 'sparklyr' was built under R version 3.6.3\"\n",
      "Attaching package: 'sparklyr'\n",
      "\n",
      "The following object is masked from 'package:purrr':\n",
      "\n",
      "    invoke\n",
      "\n",
      "\n",
      "Attaching package: 'reshape2'\n",
      "\n",
      "The following object is masked from 'package:tidyr':\n",
      "\n",
      "    smiths\n",
      "\n",
      "Warning message:\n",
      "\"package 'leaflet' was built under R version 3.6.3\"Warning message:\n",
      "\"package 'leaflet.extras' was built under R version 3.6.3\""
     ]
    }
   ],
   "source": [
    "# Load packages\n",
    "#options(warn = -1)\n",
    "library(tidyverse)\n",
    "library(visNetwork)\n",
    "library(sparklyr)\n",
    "library(reshape2)\n",
    "library(leaflet)\n",
    "library(leaflet.extras)"
   ]
  },
  {
   "cell_type": "code",
   "execution_count": 3,
   "id": "demanding-lighter",
   "metadata": {},
   "outputs": [],
   "source": [
    "# Install Spark\n",
    "spark_install()"
   ]
  },
  {
   "cell_type": "code",
   "execution_count": 6,
   "id": "choice-battle",
   "metadata": {},
   "outputs": [
    {
     "ename": "ERROR",
     "evalue": "Error: Java 11 is only supported for Spark 3.0.0+\n",
     "output_type": "error",
     "traceback": [
      "Error: Java 11 is only supported for Spark 3.0.0+\nTraceback:\n",
      "1. spark_connect(master = \"local\")",
      "2. shell_connection(master = master, spark_home = spark_home, method = method, \n .     app_name = app_name, version = version, hadoop_version = hadoop_version, \n .     shell_args = shell_args, config = config, service = spark_config_value(config, \n .         \"sparklyr.gateway.service\", FALSE), remote = spark_config_value(config, \n .         \"sparklyr.gateway.remote\", spark_master_is_yarn_cluster(master, \n .             config)), extensions = extensions, batch = NULL, \n .     scala_version = scala_version)",
      "3. validate_java_version(master, spark_home)",
      "4. stop(\"Java 11 is only supported for Spark 3.0.0+\", call. = FALSE)"
     ]
    }
   ],
   "source": [
    "# Connect to the Spark cluster\n",
    "sc <- spark_connect(master = \"local\")"
   ]
  },
  {
   "cell_type": "code",
   "execution_count": null,
   "id": "popular-holocaust",
   "metadata": {},
   "outputs": [],
   "source": [
    "# Load the dataset\n",
    "setwd(\"C:/Portfolio/Mining_Associating_Rules_Spark\")\n",
    "df <- read_csv('data/UK_Crime.csv')\n",
    "head(df)"
   ]
  },
  {
   "cell_type": "markdown",
   "id": "strange-devil",
   "metadata": {},
   "source": [
    "## Exploratory Analysis"
   ]
  },
  {
   "cell_type": "code",
   "execution_count": null,
   "id": "driven-netherlands",
   "metadata": {},
   "outputs": [],
   "source": [
    "# Data summary\n",
    "summary(df)"
   ]
  },
  {
   "cell_type": "code",
   "execution_count": null,
   "id": "superior-table",
   "metadata": {},
   "outputs": [],
   "source": [
    "# Now moving to the main "
   ]
  }
 ],
 "metadata": {
  "kernelspec": {
   "display_name": "R",
   "language": "R",
   "name": "ir"
  }
 },
 "nbformat": 4,
 "nbformat_minor": 5
}
